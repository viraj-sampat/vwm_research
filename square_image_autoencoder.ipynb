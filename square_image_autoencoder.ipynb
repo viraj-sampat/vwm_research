{
  "cells": [
    {
      "cell_type": "markdown",
      "metadata": {
        "id": "view-in-github",
        "colab_type": "text"
      },
      "source": [
        "<a href=\"https://colab.research.google.com/github/viraj-sampat/vwm_research/blob/main/square_image_autoencoder.ipynb\" target=\"_parent\"><img src=\"https://colab.research.google.com/assets/colab-badge.svg\" alt=\"Open In Colab\"/></a>"
      ]
    },
    {
      "cell_type": "code",
      "execution_count": null,
      "id": "7935ae3b",
      "metadata": {
        "id": "7935ae3b"
      },
      "outputs": [],
      "source": [
        "import torch\n",
        "import torch.nn as nn\n",
        "import torch.optim as optim\n",
        "import scipy\n",
        "import matplotlib.pyplot as plt\n",
        "from mpl_toolkits.mplot3d import Axes3D\n",
        "import numpy as np\n",
        "import torchvision\n",
        "from torchvision import transforms\n",
        "from IPython.display import IFrame\n",
        "from IPython.display import display_pdf\n",
        "from IPython.display import FileLink\n",
        "from IPython.display import display\n",
        "import os\n",
        "from google.colab import drive\n",
        "import scipy\n",
        "from sklearn.model_selection import train_test_split\n",
        "import torch.nn.functional as F"
      ]
    },
    {
      "cell_type": "markdown",
      "id": "9e08072c",
      "metadata": {
        "id": "9e08072c"
      },
      "source": [
        "# Import Data"
      ]
    },
    {
      "cell_type": "code",
      "source": [
        "drive.mount('/content/drive')"
      ],
      "metadata": {
        "colab": {
          "base_uri": "https://localhost:8080/"
        },
        "id": "GScYBrD6IWl5",
        "outputId": "b4dcad03-01f4-423d-8001-68dbbfa31701"
      },
      "id": "GScYBrD6IWl5",
      "execution_count": null,
      "outputs": [
        {
          "output_type": "stream",
          "name": "stdout",
          "text": [
            "Mounted at /content/drive\n"
          ]
        }
      ]
    },
    {
      "cell_type": "code",
      "source": [
        "data = torch.load(f'/content/drive/MyDrive/Research/square_images.pt')"
      ],
      "metadata": {
        "id": "sj6Iq2DnIfUF"
      },
      "id": "sj6Iq2DnIfUF",
      "execution_count": null,
      "outputs": []
    },
    {
      "cell_type": "code",
      "source": [
        "training_data, test_data = train_test_split(data, test_size=0.30, shuffle = True)"
      ],
      "metadata": {
        "id": "IRQHYqwbKiGE"
      },
      "id": "IRQHYqwbKiGE",
      "execution_count": null,
      "outputs": []
    },
    {
      "cell_type": "code",
      "source": [
        "#batch_size = len(training_data)\n",
        "#train_loader = torch.utils.data.DataLoader(training_data, batch_size=batch_size, shuffle = False)\n",
        "#test_loader = torch.utils.data.DataLoader(test_data, batch_size=1000-batch_size, shuffle = False)"
      ],
      "metadata": {
        "id": "pyZGQQYjLTeB"
      },
      "id": "pyZGQQYjLTeB",
      "execution_count": null,
      "outputs": []
    },
    {
      "cell_type": "markdown",
      "id": "58143de5",
      "metadata": {
        "id": "58143de5"
      },
      "source": [
        "# Visualize Data"
      ]
    },
    {
      "cell_type": "code",
      "execution_count": null,
      "id": "5d0ce837",
      "metadata": {
        "colab": {
          "base_uri": "https://localhost:8080/"
        },
        "id": "5d0ce837",
        "outputId": "0d450598-45d6-4323-9775-15881003103a"
      },
      "outputs": [
        {
          "output_type": "execute_result",
          "data": {
            "text/plain": [
              "<matplotlib.image.AxesImage at 0x7f862e043b80>"
            ]
          },
          "metadata": {},
          "execution_count": 6
        },
        {
          "output_type": "display_data",
          "data": {
            "text/plain": [
              "<Figure size 500x500 with 1 Axes>"
            ],
            "image/png": "[encoded data removed]"
          },
          "metadata": {}
        }
      ],
      "source": [
        "# obtain one batch of training images\n",
        "#dataiter = iter(train_loader)\n",
        "#images = next(dataiter)\n",
        "#images = images.numpy()\n",
        "\n",
        "# get one image from the batch\n",
        "#img = np.squeeze(images[0])\n",
        "img = np.squeeze(training_data[0])\n",
        "\n",
        "fig = plt.figure(figsize = (5,5)) \n",
        "ax = fig.add_subplot(111)\n",
        "ax.imshow(img, cmap='gray')"
      ]
    },
    {
      "cell_type": "markdown",
      "id": "c09889d3",
      "metadata": {
        "id": "c09889d3"
      },
      "source": [
        "# Create Models (Regular and Noisy)"
      ]
    },
    {
      "cell_type": "code",
      "execution_count": null,
      "id": "52bfd308",
      "metadata": {
        "id": "52bfd308"
      },
      "outputs": [],
      "source": [
        "class MNISTAutoencoder(nn.Module):\n",
        "    def __init__(self):\n",
        "        super(MNISTAutoencoder, self).__init__()\n",
        "        \n",
        "        output_channels = 1\n",
        "        kernel_size = 4\n",
        "        self.encoding_dimension = 4\n",
        "        self.encoder = nn.Sequential(\n",
        "            nn.Conv2d(1, output_channels, kernel_size = kernel_size),\n",
        "            nn.ReLU(True),\n",
        "            nn.Flatten(),\n",
        "            nn.Linear(output_channels*((28-kernel_size+1)**2), self.encoding_dimension),\n",
        "            #nn.ReLU(True)\n",
        "            nn.Sigmoid()\n",
        "            )\n",
        "        self.decoder = nn.Sequential(\n",
        "            nn.Linear(self.encoding_dimension, output_channels*((28-kernel_size+1)**2)),\n",
        "            nn.ReLU(True),\n",
        "            nn.Unflatten(1, (output_channels, 28-kernel_size+1, 28-kernel_size+1)),\n",
        "            nn.ConvTranspose2d(output_channels, 1, kernel_size = kernel_size),\n",
        "            nn.Sigmoid()\n",
        "            )\n",
        "        \n",
        "    def add_noise(self, x):\n",
        "        num_discrete = int(self.encoding_dimension/2)\n",
        "        std = 0.5\n",
        "        x[:,0:num_discrete] = x[:,0:num_discrete] + torch.randn(len(x), num_discrete)*std\n",
        "        return x\n",
        "\n",
        "    def forward(self, x):\n",
        "        x = self.encoder(x)\n",
        "        x = torch.atan(x)\n",
        "        #x = self.add_noise(x.clone())\n",
        "        x = torch.tan(x)\n",
        "        x = self.decoder(x)\n",
        "        return x"
      ]
    },
    {
      "cell_type": "code",
      "execution_count": null,
      "id": "b3b6bd67",
      "metadata": {
        "id": "b3b6bd67"
      },
      "outputs": [],
      "source": [
        "device = torch.device(\"cuda:0\" if torch.cuda.is_available() else \"cpu\")\n",
        "model = MNISTAutoencoder().to(device)"
      ]
    },
    {
      "cell_type": "markdown",
      "id": "ccd12f76",
      "metadata": {
        "id": "ccd12f76"
      },
      "source": [
        "# Initialize Loss and Optimizer"
      ]
    },
    {
      "cell_type": "code",
      "execution_count": null,
      "id": "e3e44383",
      "metadata": {
        "id": "e3e44383"
      },
      "outputs": [],
      "source": [
        "#loss_function = torch.nn.MSELoss()\n",
        "#loss_function = F.binary_cross_entropy\n",
        "loss_function = torch.nn.BCELoss()\n",
        "optimizer = torch.optim.Adam(model.parameters())\n",
        "#optimizer = optim.SGD(model.parameters(), lr=0.5, momentum=0.9)"
      ]
    },
    {
      "cell_type": "markdown",
      "id": "dc6e0c22",
      "metadata": {
        "id": "dc6e0c22"
      },
      "source": [
        "# Train Model"
      ]
    },
    {
      "cell_type": "code",
      "execution_count": null,
      "id": "5f9bdce8",
      "metadata": {
        "colab": {
          "base_uri": "https://localhost:8080/"
        },
        "id": "5f9bdce8",
        "outputId": "9127f646-c57f-4a56-cf46-1f37f94a29a7"
      },
      "outputs": [
        {
          "output_type": "stream",
          "name": "stdout",
          "text": [
            "Training Model...\n",
            "Epoch 1/10, Loss: 0.1696\n",
            "Epoch 2/10, Loss: 0.1310\n",
            "Epoch 3/10, Loss: 0.1194\n",
            "Epoch 4/10, Loss: 0.1131\n",
            "Epoch 5/10, Loss: 0.1095\n",
            "Epoch 6/10, Loss: 0.1072\n",
            "Epoch 7/10, Loss: 0.1056\n",
            "Epoch 8/10, Loss: 0.1045\n",
            "Epoch 9/10, Loss: 0.1036\n",
            "Epoch 10/10, Loss: 0.1029\n"
          ]
        }
      ],
      "source": [
        "num_epochs = 10\n",
        "print('Training Model...')\n",
        "for epoch in range(num_epochs):\n",
        "    training_loss = 0.0\n",
        "    #for data in training_data:\n",
        "    for data in training_data:\n",
        "        image = data\n",
        "        image = torch.unsqueeze(image,0) # add extra dimension at 0\n",
        "        image = image.to(device)\n",
        "        optimizer.zero_grad()\n",
        "        output = model(image)\n",
        "        loss = loss_function(output.flatten(), image.flatten())\n",
        "        loss.backward()\n",
        "        optimizer.step()\n",
        "        training_loss += loss.item()\n",
        "    print('Epoch {}/{}, Loss: {:.4f}'.format(epoch+1, num_epochs, training_loss/len(training_data)))\n",
        "        \n",
        "        "
      ]
    },
    {
      "cell_type": "code",
      "execution_count": null,
      "id": "332eadbc",
      "metadata": {
        "colab": {
          "base_uri": "https://localhost:8080/"
        },
        "id": "332eadbc",
        "outputId": "0937bc18-859b-4278-80ff-a466892e813d"
      },
      "outputs": [
        {
          "output_type": "stream",
          "name": "stdout",
          "text": [
            "regular model results...\n"
          ]
        },
        {
          "output_type": "display_data",
          "data": {
            "text/plain": [
              "<Figure size 2500x400 with 30 Axes>"
            ],
            "image/png": "[encoded data removed]"
          },
          "metadata": {}
        }
      ],
      "source": [
        "print('regular model results...')\n",
        "#dataiter = iter(test_loader)\n",
        "#images = next(dataiter)\n",
        "images = test_data\n",
        "# get sample outputs\n",
        "#outputs = model(test_data)\n",
        "outputs = model(images)\n",
        "# prep images for display\n",
        "#images = images.numpy()\n",
        "enc = model.encoder(test_data)\n",
        "#enc = model.encoder(images)\n",
        "\n",
        "# output is resized into a batch of images\n",
        "outputs = outputs.view(len(test_data), 1, 28, 28)\n",
        "#outputs = outputs.view(1000-batch_size, 1, 28, 28)\n",
        "\n",
        "outputs = outputs.detach().numpy()\n",
        "\n",
        "# plot the first ten input images and then reconstructed images\n",
        "fig, axes = plt.subplots(nrows=2, ncols=15, sharex=True, sharey=True, figsize=(25,4))\n",
        "\n",
        "# input images on top row, reconstructions on bottom\n",
        "for images, row in zip([images, outputs], axes):\n",
        "    for img, ax in zip(images, row):\n",
        "        ax.imshow(np.squeeze(img), cmap='gray')\n",
        "        ax.get_xaxis().set_visible(False)\n",
        "        ax.get_yaxis().set_visible(False)\n",
        "plt.show()"
      ]
    },
    {
      "cell_type": "code",
      "source": [
        "# fig = plt.figure()\n",
        "# ax = fig.add_subplot(111, projection='3d')\n",
        "# x = enc[:,0].detach()\n",
        "# y = enc[:,1].detach()\n",
        "# z = enc[:,2].detach()\n",
        "# colormap = np.array(['r', 'g', 'b', 'c', 'm', 'y','magenta','yellow', 'orange', 'k'])\n",
        "# ax.scatter(x,y,z, c = colormap[labels])\n",
        "# ax.set_xlabel(\"Dim 1\") \n",
        "# ax.set_ylabel(\"Dim 2\") \n",
        "# ax.set_zlabel(\"Dim 3\")\n",
        "# plt.show()\n",
        "# output.disable_custom_widget_manager()\n"
      ],
      "metadata": {
        "id": "UnpYjPlOZJSa"
      },
      "id": "UnpYjPlOZJSa",
      "execution_count": null,
      "outputs": []
    }
  ],
  "metadata": {
    "colab": {
      "provenance": [],
      "include_colab_link": true
    },
    "gpuClass": "standard",
    "jupytext": {
      "cell_metadata_filter": "-all",
      "formats": "ipynb,py",
      "main_language": "python"
    },
    "kernelspec": {
      "display_name": "Python 3 (ipykernel)",
      "language": "python",
      "name": "python3"
    },
    "language_info": {
      "codemirror_mode": {
        "name": "ipython",
        "version": 3
      },
      "file_extension": ".py",
      "mimetype": "text/x-python",
      "name": "python",
      "nbconvert_exporter": "python",
      "pygments_lexer": "ipython3",
      "version": "3.9.13"
    }
  },
  "nbformat": 4,
  "nbformat_minor": 5
}