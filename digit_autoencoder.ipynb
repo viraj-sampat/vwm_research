{
  "cells": [
    {
      "cell_type": "markdown",
      "metadata": {
        "id": "view-in-github",
        "colab_type": "text"
      },
      "source": [
        "<a href=\"https://colab.research.google.com/github/viraj-sampat/vwm_research/blob/main/digit_autoencoder.ipynb\" target=\"_parent\"><img src=\"https://colab.research.google.com/assets/colab-badge.svg\" alt=\"Open In Colab\"/></a>"
      ]
    },
    {
      "cell_type": "code",
      "execution_count": 22,
      "id": "7935ae3b",
      "metadata": {
        "id": "7935ae3b"
      },
      "outputs": [],
      "source": [
        "import torch\n",
        "import torch.nn as nn\n",
        "import torch.optim as optim\n",
        "import scipy\n",
        "import matplotlib.pyplot as plt\n",
        "import numpy as np\n",
        "import torchvision\n",
        "from torchvision import transforms\n",
        "from IPython.display import IFrame\n",
        "from IPython.display import display_pdf\n",
        "from IPython.display import FileLink\n",
        "from IPython.display import display\n",
        "import os"
      ]
    },
    {
      "cell_type": "markdown",
      "id": "9e08072c",
      "metadata": {
        "id": "9e08072c"
      },
      "source": [
        "# Import Data"
      ]
    },
    {
      "cell_type": "code",
      "execution_count": 23,
      "id": "6b294482",
      "metadata": {
        "id": "6b294482",
        "lines_to_next_cell": 2
      },
      "outputs": [],
      "source": [
        "training_data = torchvision.datasets.MNIST('dataset', train=True,download=True, transform = transforms.ToTensor())\n",
        "test_data = torchvision.datasets.MNIST('dataset', train=False, download=True, transform = transforms.ToTensor())\n",
        "\n",
        "batch_size = 256\n",
        "train_loader = torch.utils.data.DataLoader(training_data, batch_size=batch_size, shuffle = True)\n",
        "test_loader = torch.utils.data.DataLoader(test_data, batch_size=batch_size, shuffle = True)"
      ]
    },
    {
      "cell_type": "markdown",
      "id": "58143de5",
      "metadata": {
        "id": "58143de5"
      },
      "source": [
        "# Visualize Data"
      ]
    },
    {
      "cell_type": "code",
      "execution_count": 24,
      "id": "5d0ce837",
      "metadata": {
        "colab": {
          "base_uri": "https://localhost:8080/",
          "height": 462
        },
        "id": "5d0ce837",
        "outputId": "dc09e53a-adec-44a4-a9f7-29a3fde13c02"
      },
      "outputs": [
        {
          "output_type": "execute_result",
          "data": {
            "text/plain": [
              "<matplotlib.image.AxesImage at 0x7fb0a1202fe0>"
            ]
          },
          "metadata": {},
          "execution_count": 24
        },
        {
          "output_type": "display_data",
          "data": {
            "text/plain": [
              "<Figure size 500x500 with 1 Axes>"
            ],
            "image/png": "[encoded data removed]"
          },
          "metadata": {}
        }
      ],
      "source": [
        "# obtain one batch of training images\n",
        "dataiter = iter(train_loader)\n",
        "images, labels = next(dataiter)\n",
        "images = images.numpy()\n",
        "\n",
        "# get one image from the batch\n",
        "img = np.squeeze(images[0])\n",
        "\n",
        "fig = plt.figure(figsize = (5,5)) \n",
        "ax = fig.add_subplot(111)\n",
        "ax.imshow(img, cmap='gray')"
      ]
    },
    {
      "cell_type": "markdown",
      "id": "c09889d3",
      "metadata": {
        "id": "c09889d3"
      },
      "source": [
        "# Create Model"
      ]
    },
    {
      "cell_type": "code",
      "execution_count": 25,
      "id": "52bfd308",
      "metadata": {
        "id": "52bfd308"
      },
      "outputs": [],
      "source": [
        "class MNISTAutoencoder(nn.Module):\n",
        "    def __init__(self):\n",
        "        super(MNISTAutoencoder, self).__init__()\n",
        "        \n",
        "        output_channels = 2\n",
        "        kernel_size = 4\n",
        "        encoding_dimension = 20\n",
        "        self.encoder = nn.Sequential(\n",
        "            nn.Conv2d(1, output_channels, kernel_size = kernel_size),\n",
        "            nn.ReLU(True),\n",
        "            nn.Flatten(),\n",
        "            nn.Linear(output_channels*((28-kernel_size+1)**2), encoding_dimension),\n",
        "            nn.ReLU(True)\n",
        "            )\n",
        "        self.decoder = nn.Sequential(\n",
        "            nn.Linear(encoding_dimension, output_channels*((28-kernel_size+1)**2)),\n",
        "            nn.ReLU(True),\n",
        "            nn.Unflatten(1, (output_channels, 28-kernel_size+1, 28-kernel_size+1)),\n",
        "            nn.ConvTranspose2d(output_channels, 1, kernel_size = kernel_size),\n",
        "            nn.Sigmoid()\n",
        "            )\n",
        "\n",
        "    def forward(self, x):\n",
        "        x = self.encoder(x)\n",
        "        x = self.decoder(x)\n",
        "        return x"
      ]
    },
    {
      "cell_type": "code",
      "execution_count": 26,
      "id": "b3b6bd67",
      "metadata": {
        "id": "b3b6bd67"
      },
      "outputs": [],
      "source": [
        "device = torch.device(\"cuda:0\" if torch.cuda.is_available() else \"cpu\")\n",
        "model = MNISTAutoencoder().to(device)"
      ]
    },
    {
      "cell_type": "markdown",
      "id": "ccd12f76",
      "metadata": {
        "id": "ccd12f76"
      },
      "source": [
        "# Initialize Loss and Optimizer"
      ]
    },
    {
      "cell_type": "code",
      "execution_count": 27,
      "id": "e3e44383",
      "metadata": {
        "id": "e3e44383"
      },
      "outputs": [],
      "source": [
        "loss_function = torch.nn.MSELoss()\n",
        "optimizer = torch.optim.Adam(model.parameters(), lr = 0.01)"
      ]
    },
    {
      "cell_type": "markdown",
      "id": "dc6e0c22",
      "metadata": {
        "id": "dc6e0c22"
      },
      "source": [
        "# Train Model"
      ]
    },
    {
      "cell_type": "code",
      "execution_count": 28,
      "id": "5f9bdce8",
      "metadata": {
        "colab": {
          "base_uri": "https://localhost:8080/"
        },
        "id": "5f9bdce8",
        "outputId": "fe357f06-c0ad-44dc-a587-3f396c3596a3"
      },
      "outputs": [
        {
          "output_type": "stream",
          "name": "stdout",
          "text": [
            "Training Model...\n",
            "Epoch 1/10, Loss: 0.0565\n",
            "Epoch 2/10, Loss: 0.0287\n",
            "Epoch 3/10, Loss: 0.0251\n",
            "Epoch 4/10, Loss: 0.0239\n",
            "Epoch 5/10, Loss: 0.0234\n",
            "Epoch 6/10, Loss: 0.0230\n",
            "Epoch 7/10, Loss: 0.0227\n",
            "Epoch 8/10, Loss: 0.0224\n",
            "Epoch 9/10, Loss: 0.0222\n",
            "Epoch 10/10, Loss: 0.0221\n"
          ]
        }
      ],
      "source": [
        "num_epochs = 10\n",
        "print('Training Model...')\n",
        "for epoch in range(num_epochs):\n",
        "    training_loss = 0.0\n",
        "    for data in train_loader:\n",
        "        image, _ = data\n",
        "        image = image.to(device)\n",
        "        optimizer.zero_grad()\n",
        "        output = model(image)\n",
        "        loss = loss_function(output, image)\n",
        "        loss.backward()\n",
        "        optimizer.step()\n",
        "        training_loss += loss.item()\n",
        "    print('Epoch {}/{}, Loss: {:.4f}'.format(epoch+1, num_epochs, training_loss/len(train_loader)))\n",
        "        \n",
        "        "
      ]
    },
    {
      "cell_type": "code",
      "execution_count": 29,
      "id": "332eadbc",
      "metadata": {
        "colab": {
          "base_uri": "https://localhost:8080/",
          "height": 322
        },
        "id": "332eadbc",
        "outputId": "b46c80cd-b132-4cb0-cedd-966e7275768e"
      },
      "outputs": [
        {
          "output_type": "display_data",
          "data": {
            "text/plain": [
              "<Figure size 2500x400 with 20 Axes>"
            ],
            "image/png": "[encoded data removed]"
          },
          "metadata": {}
        }
      ],
      "source": [
        "dataiter = iter(test_loader)\n",
        "images, labels = next(dataiter)\n",
        "\n",
        "# get sample outputs\n",
        "output = model(images)\n",
        "# prep images for display\n",
        "images = images.numpy()\n",
        "\n",
        "# output is resized into a batch of images\n",
        "output = output.view(batch_size, 1, 28, 28)\n",
        "\n",
        "output = output.detach().numpy()\n",
        "\n",
        "# plot the first ten input images and then reconstructed images\n",
        "fig, axes = plt.subplots(nrows=2, ncols=10, sharex=True, sharey=True, figsize=(25,4))\n",
        "\n",
        "# input images on top row, reconstructions on bottom\n",
        "for images, row in zip([images, output], axes):\n",
        "    for img, ax in zip(images, row):\n",
        "        ax.imshow(np.squeeze(img), cmap='gray')\n",
        "        ax.get_xaxis().set_visible(False)\n",
        "        ax.get_yaxis().set_visible(False)"
      ]
    }
  ],
  "metadata": {
    "colab": {
      "provenance": [],
      "include_colab_link": true
    },
    "gpuClass": "standard",
    "jupytext": {
      "cell_metadata_filter": "-all",
      "formats": "ipynb,py",
      "main_language": "python"
    },
    "kernelspec": {
      "display_name": "Python 3 (ipykernel)",
      "language": "python",
      "name": "python3"
    },
    "language_info": {
      "codemirror_mode": {
        "name": "ipython",
        "version": 3
      },
      "file_extension": ".py",
      "mimetype": "text/x-python",
      "name": "python",
      "nbconvert_exporter": "python",
      "pygments_lexer": "ipython3",
      "version": "3.9.13"
    }
  },
  "nbformat": 4,
  "nbformat_minor": 5
}